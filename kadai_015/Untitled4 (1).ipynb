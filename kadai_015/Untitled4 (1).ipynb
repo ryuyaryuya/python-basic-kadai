{
  "nbformat": 4,
  "nbformat_minor": 0,
  "metadata": {
    "colab": {
      "provenance": []
    },
    "kernelspec": {
      "name": "python3",
      "display_name": "Python 3"
    },
    "language_info": {
      "name": "python"
    }
  },
  "cells": [
    {
      "cell_type": "code",
      "execution_count": 3,
      "metadata": {
        "colab": {
          "base_uri": "https://localhost:8080/"
        },
        "id": "Ici1We26tmKW",
        "outputId": "3e3922ce-dbf6-4110-8e05-30dc1cb65f42"
      },
      "outputs": [
        {
          "output_type": "stream",
          "name": "stdout",
          "text": [
            "samuraitaro\n",
            "30\n"
          ]
        }
      ],
      "source": [
        "class Human:\n",
        "  def __init__(self, name, age):\n",
        "    self.name = name\n",
        "    self.age = age\n",
        "\n",
        "  def printinfo(self,):\n",
        "    print(self.name)\n",
        "    print(self.age)\n",
        "\n",
        "human=Human(\"samuraitaro\",30)\n",
        "\n",
        "human.printinfo()\n"
      ]
    }
  ]
}