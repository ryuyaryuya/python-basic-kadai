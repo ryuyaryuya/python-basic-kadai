{
  "nbformat": 4,
  "nbformat_minor": 0,
  "metadata": {
    "colab": {
      "provenance": []
    },
    "kernelspec": {
      "name": "python3",
      "display_name": "Python 3"
    },
    "language_info": {
      "name": "python"
    }
  },
  "cells": [
    {
      "cell_type": "code",
      "execution_count": 2,
      "metadata": {
        "colab": {
          "base_uri": "https://localhost:8080/"
        },
        "id": "NiUgfLMdFWOk",
        "outputId": "72c93a30-a96c-44c5-d104-4a23dfd4d482"
      },
      "outputs": [
        {
          "output_type": "execute_result",
          "data": {
            "text/plain": [
              "220.0"
            ]
          },
          "metadata": {},
          "execution_count": 2
        }
      ],
      "source": [
        "def total_price(price, tax):\n",
        "    tax = price * 0.1\n",
        "    total_price = price + tax\n",
        "    return total_price\n",
        "\n",
        "total_price(200, 10)"
      ]
    }
  ]
}