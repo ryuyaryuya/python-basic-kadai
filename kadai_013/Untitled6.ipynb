{
  "nbformat": 4,
  "nbformat_minor": 0,
  "metadata": {
    "colab": {
      "provenance": []
    },
    "kernelspec": {
      "name": "python3",
      "display_name": "Python 3"
    },
    "language_info": {
      "name": "python"
    }
  },
  "cells": [
    {
      "cell_type": "code",
      "execution_count": 2,
      "metadata": {
        "colab": {
          "base_uri": "https://localhost:8080/"
        },
        "id": "NiUgfLMdFWOk",
        "outputId": "481f8e2e-aa7d-46ab-f5c6-62335ce62e4f"
      },
      "outputs": [
        {
          "output_type": "stream",
          "name": "stdout",
          "text": [
            "200円（税込 : 220.0円）\n"
          ]
        }
      ],
      "source": [
        "def total_price(price, tax):\n",
        "    tax = price * 0.1\n",
        "    total_price = price + tax\n",
        "    print(f\"{price}円（税込 : {total_price}円）\")\n",
        "\n",
        "total_price(200, 10)"
      ]
    }
  ]
}