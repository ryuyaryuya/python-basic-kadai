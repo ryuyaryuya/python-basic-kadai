{
  "nbformat": 4,
  "nbformat_minor": 0,
  "metadata": {
    "colab": {
      "provenance": []
    },
    "kernelspec": {
      "name": "python3",
      "display_name": "Python 3"
    },
    "language_info": {
      "name": "python"
    }
  },
  "cells": [
    {
      "cell_type": "code",
      "execution_count": 6,
      "metadata": {
        "colab": {
          "base_uri": "https://localhost:8080/"
        },
        "id": "1oK-HgWtmQPD",
        "outputId": "131ffc83-1b4d-490d-cbef-87ddd4896550"
      },
      "outputs": [
        {
          "output_type": "stream",
          "name": "stdout",
          "text": [
            "15\n",
            "FizzzBuzz\n"
          ]
        }
      ],
      "source": [
        "import random\n",
        "\n",
        "var = random.randint(0,15)\n",
        "\n",
        "print(var)\n",
        "\n",
        "if var % 3 == 0 and var % 5 == 0:\n",
        "   print(\"FizzzBuzz\")\n",
        "elif var % 3 == 0:\n",
        "   print(\"Fizz\")\n",
        "elif var % 5 == 0:\n",
        "   print(\"Buzz\")\n",
        "else:\n",
        "    print(var)"
      ]
    }
  ]
}